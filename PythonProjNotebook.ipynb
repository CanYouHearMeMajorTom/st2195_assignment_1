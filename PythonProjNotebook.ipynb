{
 "cells": [
  {
   "cell_type": "markdown",
   "id": "b341659c",
   "metadata": {},
   "source": [
    "# Jupyter Notebook Version of the Python Assignment\n",
    "\n",
    "## This task is designed to show how jupyter notebooks works to incorporate both code and markdown language into one.\n",
    "\n",
    "We will now use the **PRINT** Function to print the required number sequence"
   ]
  },
  {
   "cell_type": "code",
   "execution_count": 2,
   "id": "5040ec15",
   "metadata": {},
   "outputs": [
    {
     "name": "stdout",
     "output_type": "stream",
     "text": [
      " The first 10 numbers are : 1 2 3 4 5 6 7 8 9 10\n"
     ]
    }
   ],
   "source": [
    "print(' The first 10 numbers are :' ,1,2,3,4,5,6,7,8,9,10)"
   ]
  },
  {
   "cell_type": "code",
   "execution_count": null,
   "id": "5a52eb16",
   "metadata": {},
   "outputs": [],
   "source": []
  }
 ],
 "metadata": {
  "kernelspec": {
   "display_name": "Python 3",
   "language": "python",
   "name": "python3"
  },
  "language_info": {
   "codemirror_mode": {
    "name": "ipython",
    "version": 3
   },
   "file_extension": ".py",
   "mimetype": "text/x-python",
   "name": "python",
   "nbconvert_exporter": "python",
   "pygments_lexer": "ipython3",
   "version": "3.8.8"
  }
 },
 "nbformat": 4,
 "nbformat_minor": 5
}
